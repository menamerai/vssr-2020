{
  "nbformat": 4,
  "nbformat_minor": 0,
  "metadata": {
    "kernelspec": {
      "language": "python",
      "display_name": "Python 3",
      "name": "python3"
    },
    "language_info": {
      "pygments_lexer": "ipython3",
      "nbconvert_exporter": "python",
      "version": "3.6.4",
      "file_extension": ".py",
      "codemirror_mode": {
        "name": "ipython",
        "version": 3
      },
      "name": "python",
      "mimetype": "text/x-python"
    },
    "colab": {
      "name": "Brazilian House Rent Price.ipynb",
      "provenance": [],
      "include_colab_link": true
    }
  },
  "cells": [
    {
      "cell_type": "markdown",
      "metadata": {
        "id": "view-in-github",
        "colab_type": "text"
      },
      "source": [
        "<a href=\"https://colab.research.google.com/github/menamerai/vssr-2020/blob/master/Brazilian%20House%20Rent%20Price%20(Colab).ipynb\" target=\"_parent\"><img src=\"https://colab.research.google.com/assets/colab-badge.svg\" alt=\"Open In Colab\"/></a>"
      ]
    },
    {
      "cell_type": "markdown",
      "metadata": {
        "id": "2rwk38XmgnUJ",
        "colab_type": "text"
      },
      "source": [
        "# Brazilian House Rent Price\n",
        "\n",
        "After taking a look at the data, I've decided that the houses_to_rentv1 is pretty much unusable for me. So I'll use the v2, and decide to predict the most useful-looking value: Rent amount"
      ]
    },
    {
      "cell_type": "markdown",
      "metadata": {
        "id": "tmslbHFcgnUN",
        "colab_type": "text"
      },
      "source": [
        "# Setup\n",
        "\n",
        "Setup time. We load all of the necessary libraries and the data."
      ]
    },
    {
      "cell_type": "code",
      "metadata": {
        "_uuid": "d629ff2d2480ee46fbb7e2d37f6b5fab8052498a",
        "_cell_guid": "79c7e3d0-c299-4dcb-8224-4455121ee9b0",
        "trusted": true,
        "id": "KrykJDISgnUQ",
        "colab_type": "code",
        "colab": {
          "base_uri": "https://localhost:8080/",
          "height": 89
        },
        "outputId": "01e503f5-805a-47fc-bf5f-50406868c685"
      },
      "source": [
        "import numpy as np\n",
        "import pandas as pd\n",
        "from matplotlib import pyplot as plt\n",
        "import seaborn as sns\n",
        "%pylab inline"
      ],
      "execution_count": 1,
      "outputs": [
        {
          "output_type": "stream",
          "text": [
            "Populating the interactive namespace from numpy and matplotlib\n"
          ],
          "name": "stdout"
        },
        {
          "output_type": "stream",
          "text": [
            "/usr/local/lib/python3.6/dist-packages/statsmodels/tools/_testing.py:19: FutureWarning: pandas.util.testing is deprecated. Use the functions in the public API at pandas.testing instead.\n",
            "  import pandas.util.testing as tm\n"
          ],
          "name": "stderr"
        }
      ]
    },
    {
      "cell_type": "code",
      "metadata": {
        "trusted": true,
        "id": "k48YZsCQgnUm",
        "colab_type": "code",
        "colab": {}
      },
      "source": [
        "# Import the scikit-learn methods and models here\n",
        "from sklearn.ensemble import RandomForestRegressor\n",
        "from sklearn.model_selection import train_test_split\n",
        "from sklearn.impute import SimpleImputer\n",
        "from sklearn.pipeline import Pipeline\n",
        "from sklearn.model_selection import cross_validate\n",
        "from sklearn.model_selection import GridSearchCV"
      ],
      "execution_count": null,
      "outputs": []
    },
    {
      "cell_type": "code",
      "metadata": {
        "trusted": true,
        "id": "FKFadioognU0",
        "colab_type": "code",
        "colab": {}
      },
      "source": [
        "data = pd.read_csv(\"../input/brasilian-houses-to-rent/houses_to_rent_v2.csv\").drop([\"total (R$)\"], axis=1)\n",
        "data.head()"
      ],
      "execution_count": null,
      "outputs": []
    },
    {
      "cell_type": "markdown",
      "metadata": {
        "id": "1JwXqKh2gnVB",
        "colab_type": "text"
      },
      "source": [
        "# Data Inference\n",
        "\n",
        "Now we'll look at the raw data, and use statistical methods and analysis to infer meaning and decide what to visualize, and what to use for the ML process."
      ]
    },
    {
      "cell_type": "code",
      "metadata": {
        "trusted": true,
        "id": "XpSXoQ2KgnVC",
        "colab_type": "code",
        "colab": {}
      },
      "source": [
        "X_labels = [\"city\", \"area\", \"rooms\", \"bathroom\", \"parking spaces\", \"floor\", \"animal\", \"furniture\", \"hoa (R$)\", \"fire insurance (R$)\", \"property tax (R$)\"]\n",
        "data.dropna()\n",
        "X = data[X_labels]\n",
        "y = data[\"rent amount (R$)\"]"
      ],
      "execution_count": null,
      "outputs": []
    },
    {
      "cell_type": "code",
      "metadata": {
        "trusted": true,
        "id": "-72uv4vLgnVP",
        "colab_type": "code",
        "colab": {}
      },
      "source": [
        "data.describe()"
      ],
      "execution_count": null,
      "outputs": []
    },
    {
      "cell_type": "code",
      "metadata": {
        "trusted": true,
        "id": "7y9tGfifgnVb",
        "colab_type": "code",
        "colab": {}
      },
      "source": [
        "data.groupby([\"city\"]).mean()"
      ],
      "execution_count": null,
      "outputs": []
    },
    {
      "cell_type": "markdown",
      "metadata": {
        "id": "ryn28xEXgnVl",
        "colab_type": "text"
      },
      "source": [
        "**Conclusion**\n",
        "> Because this dataset seems pretty much impossible to pin down when simply looking at the raw data, I concluse that this would be a great dataset to train on, and would be of use in real life. \n",
        "\n",
        "And thus, we move to the visualization part for better inference"
      ]
    },
    {
      "cell_type": "markdown",
      "metadata": {
        "id": "MWILvMZPgnVn",
        "colab_type": "text"
      },
      "source": [
        "# Data Visualization\n",
        "\n",
        "We begin with general and mass visualization, then move on to more specific cases and pairs"
      ]
    },
    {
      "cell_type": "code",
      "metadata": {
        "trusted": true,
        "id": "E02JHXZrgnVp",
        "colab_type": "code",
        "colab": {}
      },
      "source": [
        "sns.heatmap(data.corr(), annot=True)"
      ],
      "execution_count": null,
      "outputs": []
    },
    {
      "cell_type": "markdown",
      "metadata": {
        "id": "KHpy9-PsgnVy",
        "colab_type": "text"
      },
      "source": [
        "Hmm... It seems that the homeowner tax and the property tax has little to do with anything else, creating a clear black mark. I'll drop them."
      ]
    },
    {
      "cell_type": "code",
      "metadata": {
        "trusted": true,
        "id": "jZS0Dg5ZgnVz",
        "colab_type": "code",
        "colab": {}
      },
      "source": [
        "X = X.drop([\"hoa (R$)\", \"property tax (R$)\"], axis=1)\n",
        "X.head()"
      ],
      "execution_count": null,
      "outputs": []
    },
    {
      "cell_type": "code",
      "metadata": {
        "trusted": true,
        "id": "Lqn52KpggnWE",
        "colab_type": "code",
        "colab": {}
      },
      "source": [
        "sns.pairplot(data=data, hue=\"city\")"
      ],
      "execution_count": null,
      "outputs": []
    },
    {
      "cell_type": "markdown",
      "metadata": {
        "id": "cTzJyhd9gnWM",
        "colab_type": "text"
      },
      "source": [
        "# Data Manipulation\n",
        "\n",
        "Time to change up the data a bit so the model can better infer from it. First step is to convert every string value to integers."
      ]
    },
    {
      "cell_type": "code",
      "metadata": {
        "trusted": true,
        "id": "9Tk0szMJgnWP",
        "colab_type": "code",
        "colab": {}
      },
      "source": [
        "print(X[\"city\"].unique())\n",
        "print(X[\"animal\"].unique())\n",
        "print(X[\"furniture\"].unique())"
      ],
      "execution_count": null,
      "outputs": []
    },
    {
      "cell_type": "code",
      "metadata": {
        "trusted": true,
        "id": "ka7DRDfognWY",
        "colab_type": "code",
        "colab": {}
      },
      "source": [
        "print(X[\"floor\"].unique())\n",
        "# I checked the other columns. Seems to be all fine"
      ],
      "execution_count": null,
      "outputs": []
    },
    {
      "cell_type": "markdown",
      "metadata": {
        "id": "eElox1oRgnWl",
        "colab_type": "text"
      },
      "source": [
        "There are 5 unique cities, so it should work ok.\n",
        "* Sao Paulo = 1\n",
        "* Porto Alegre = 2\n",
        "* Rio = 3\n",
        "* Campinas = 4\n",
        "* Belo Horizonte = 5\n",
        "\n",
        "There are also two different values in the animal column and the furniture column, and the \"-\" thing in the floor. I will assume it means no data and drop the columns with it."
      ]
    },
    {
      "cell_type": "code",
      "metadata": {
        "trusted": true,
        "id": "Q84TJrvNgnWo",
        "colab_type": "code",
        "colab": {}
      },
      "source": [
        "# Run this only once, please\n",
        "X[\"city\"] = X[\"city\"].apply(lambda x: 1 if x == \"São Paulo\" \n",
        "                            else 2 if x == \"Porto Alegre\" \n",
        "                            else 3 if x == \"Rio de Janeiro\"\n",
        "                            else 4 if x ==\"Campinas\" else 5)\n",
        "X[\"animal\"] = X[\"animal\"].apply(lambda x: 1 if x == \"acept\" else 0) # Gosh the hell is acept\n",
        "X[\"furniture\"] = X[\"furniture\"].apply(lambda x: 1 if x == \"furnished\" else 0)\n",
        "X[\"floor\"] = X[\"floor\"].apply(lambda x: np.nan if x == \"-\" else x)"
      ],
      "execution_count": null,
      "outputs": []
    },
    {
      "cell_type": "code",
      "metadata": {
        "trusted": true,
        "id": "sKKB6MG1gnWx",
        "colab_type": "code",
        "colab": {}
      },
      "source": [
        "X.tail()"
      ],
      "execution_count": null,
      "outputs": []
    },
    {
      "cell_type": "code",
      "metadata": {
        "trusted": true,
        "id": "DXoCgTBVgnW7",
        "colab_type": "code",
        "colab": {}
      },
      "source": [
        "y.tail()"
      ],
      "execution_count": null,
      "outputs": []
    },
    {
      "cell_type": "markdown",
      "metadata": {
        "id": "g8xg2OUYgnXE",
        "colab_type": "text"
      },
      "source": [
        "... and all done! Now the fun part."
      ]
    },
    {
      "cell_type": "markdown",
      "metadata": {
        "id": "uefqVOzVgnXG",
        "colab_type": "text"
      },
      "source": [
        "# Machine Learning\n",
        "\n",
        "Here we go. I have decided to use RandomForestRegressor as my model, as the XGBoost models are too much work.\n",
        "First we split the dataset."
      ]
    },
    {
      "cell_type": "code",
      "metadata": {
        "trusted": true,
        "id": "6hVw35CygnXH",
        "colab_type": "code",
        "colab": {}
      },
      "source": [
        "X_train, X_test, y_train, y_test = train_test_split(X, y, random_state=1, test_size=0.2)\n",
        "print(\"There are {} samples in the training set and {} samples in the test set\".format(X_train.shape[0], X_test.shape[0]))"
      ],
      "execution_count": null,
      "outputs": []
    },
    {
      "cell_type": "markdown",
      "metadata": {
        "id": "TeEZIO9VgnXN",
        "colab_type": "text"
      },
      "source": [
        "This was the place for gridsearch. Now I no longer needs this because I've got the best parameters via this, and self experimentation."
      ]
    },
    {
      "cell_type": "code",
      "metadata": {
        "trusted": true,
        "id": "WtrNOr4zgnXQ",
        "colab_type": "code",
        "colab": {}
      },
      "source": [
        "\"\"\"\n",
        "pipeline = Pipeline(steps=[(\"preprocess\", SimpleImputer(missing_values=np.nan, strategy=\"most_frequent\")),\n",
        "                            (\"model\", RandomForestRegressor(random_state=1))])\n",
        "grid_params = {\n",
        "    \"model__n_estimators\": [140, 160, 180],\n",
        "    \"model__criterion\": [\"mse\"],\n",
        "    \"model__bootstrap\": [False],\n",
        "    \"model__max_depth\": list(range(5, 21, 5))\n",
        "}\n",
        "grid_search = GridSearchCV(estimator=pipeline, param_grid=grid_params, cv=3, verbose=1)\n",
        "grid_search.fit(X_train, y_train)\n",
        "grid_search.best_params_\n",
        "\"\"\""
      ],
      "execution_count": null,
      "outputs": []
    },
    {
      "cell_type": "markdown",
      "metadata": {
        "id": "nMi_mRNlgnXV",
        "colab_type": "text"
      },
      "source": [
        "# Mean Squared Error Model"
      ]
    },
    {
      "cell_type": "code",
      "metadata": {
        "trusted": true,
        "id": "sCkW1S-IgnXY",
        "colab_type": "code",
        "colab": {}
      },
      "source": [
        "final_model = Pipeline(steps=[(\"preprocess\", SimpleImputer(missing_values=np.nan, strategy=\"most_frequent\")),\n",
        "                            (\"model\", RandomForestRegressor(random_state=1,\n",
        "                                                            bootstrap=False, \n",
        "                                                            criterion=\"mse\",\n",
        "                                                            n_estimators=180,\n",
        "                                                            max_depth=7))])\n",
        "scores = cross_validate(final_model, X_train, y_train, cv=3, scoring=\"neg_root_mean_squared_error\")\n",
        "print(-scores[\"test_score\"].mean())"
      ],
      "execution_count": null,
      "outputs": []
    },
    {
      "cell_type": "markdown",
      "metadata": {
        "id": "npdGTLhNgnXf",
        "colab_type": "text"
      },
      "source": [
        "# Mean Absolute Error Model"
      ]
    },
    {
      "cell_type": "code",
      "metadata": {
        "trusted": true,
        "id": "XqxbM3eUgnXg",
        "colab_type": "code",
        "colab": {}
      },
      "source": [
        "final_model_mae = Pipeline(steps=[(\"preprocess\", SimpleImputer(missing_values=np.nan, strategy=\"most_frequent\")),\n",
        "                            (\"model\", RandomForestRegressor(random_state=1,\n",
        "                                                            bootstrap=False, \n",
        "                                                            criterion=\"mae\",\n",
        "                                                            n_estimators=60,\n",
        "                                                            max_depth=16))])\n",
        "scores_mae = cross_validate(final_model_mae, X_train, y_train, cv=3, scoring=\"neg_mean_absolute_error\")\n",
        "print(-scores_mae[\"test_score\"].mean())"
      ],
      "execution_count": null,
      "outputs": []
    },
    {
      "cell_type": "markdown",
      "metadata": {
        "id": "krek_KKWgnXo",
        "colab_type": "text"
      },
      "source": [
        "# Mini Model \n",
        "\n",
        "This predicts the rent price using fire insurance price, and the location of the place."
      ]
    },
    {
      "cell_type": "code",
      "metadata": {
        "trusted": true,
        "id": "FRM98-7WgnXq",
        "colab_type": "code",
        "colab": {}
      },
      "source": [
        "final_model_mae_fire = Pipeline(steps=[(\"preprocess\", SimpleImputer(missing_values=np.nan, strategy=\"most_frequent\")),\n",
        "                            (\"model\", RandomForestRegressor(random_state=1,\n",
        "                                                            bootstrap=False, \n",
        "                                                            criterion=\"mse\",\n",
        "                                                            n_estimators=200,\n",
        "                                                            max_depth=15))])\n",
        "scores_mae_fire = cross_validate(final_model_mae_fire, X_train[[\"fire insurance (R$)\", \"city\"]], y_train, cv=3, scoring=\"neg_root_mean_squared_error\")\n",
        "print(-scores_mae_fire[\"test_score\"].mean())"
      ],
      "execution_count": null,
      "outputs": []
    }
  ]
}